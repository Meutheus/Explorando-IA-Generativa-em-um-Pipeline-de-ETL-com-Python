{
  "nbformat": 4,
  "nbformat_minor": 0,
  "metadata": {
    "colab": {
      "provenance": [],
      "collapsed_sections": [
        "kNuP0SDUZMBY"
      ]
    },
    "kernelspec": {
      "name": "python3",
      "display_name": "Python 3"
    },
    "language_info": {
      "name": "python"
    }
  },
  "cells": [
    {
      "cell_type": "markdown",
      "source": [
        "# Santander Dev Week 2023 (ETL com Python)"
      ],
      "metadata": {
        "id": "BPJQsTCULaC-"
      }
    },
    {
      "cell_type": "code",
      "source": [
        "sdw2023_api_url = 'https://sdw-2023-prd.up.railway.app'"
      ],
      "metadata": {
        "id": "FKqLC_CWoYqR"
      },
      "execution_count": 3,
      "outputs": []
    },
    {
      "cell_type": "markdown",
      "source": [
        "## **E**xtract\n",
        "\n",
        "Extraia a lista de IDs de usuário a partir do arquivo CSV. Para cada ID, faça uma requisição GET para obter os dados do usuário correspondente."
      ],
      "metadata": {
        "id": "9dfI-o7gLRq9"
      }
    },
    {
      "cell_type": "code",
      "execution_count": 2,
      "metadata": {
        "id": "NYydpX_GLRCB",
        "colab": {
          "base_uri": "https://localhost:8080/"
        },
        "outputId": "bcbccc40-db51-4d3e-ccd8-0e35053b87aa"
      },
      "outputs": [
        {
          "output_type": "stream",
          "name": "stdout",
          "text": [
            "[3562, 3564, 3565]\n"
          ]
        }
      ],
      "source": [
        "import pandas as pd\n",
        "\n",
        "df = pd.read_csv('Stdw2023.csv')\n",
        "user_ids = df['UserID'].tolist()\n",
        "print(user_ids)"
      ]
    },
    {
      "cell_type": "code",
      "source": [
        "import requests\n",
        "import json\n",
        "\n",
        "def get_user(id):\n",
        "  response = requests.get(f'{sdw2023_api_url}/users/{id}')\n",
        "  return response.json() if response.status_code == 200 else None\n",
        "\n",
        "users = [user for id in user_ids if (user := get_user(id)) is not None]\n",
        "print(json.dumps(users, indent=2))"
      ],
      "metadata": {
        "id": "F5XOuCZGSTGw",
        "colab": {
          "base_uri": "https://localhost:8080/"
        },
        "outputId": "81edc686-9ca4-4488-817b-bf5140221359"
      },
      "execution_count": 4,
      "outputs": [
        {
          "output_type": "stream",
          "name": "stdout",
          "text": [
            "[\n",
            "  {\n",
            "    \"id\": 3562,\n",
            "    \"name\": \"Meutheus\",\n",
            "    \"account\": {\n",
            "      \"id\": 3785,\n",
            "      \"number\": \"02021-1\",\n",
            "      \"agency\": \"0001\",\n",
            "      \"balance\": 0.0,\n",
            "      \"limit\": 500.0\n",
            "    },\n",
            "    \"card\": {\n",
            "      \"id\": 3458,\n",
            "      \"number\": \"**** **** **** 0202\",\n",
            "      \"limit\": 1000.0\n",
            "    },\n",
            "    \"features\": [],\n",
            "    \"news\": []\n",
            "  },\n",
            "  {\n",
            "    \"id\": 3564,\n",
            "    \"name\": \"Mytheus\",\n",
            "    \"account\": {\n",
            "      \"id\": 3787,\n",
            "      \"number\": \"02021-2\",\n",
            "      \"agency\": \"0001\",\n",
            "      \"balance\": 0.0,\n",
            "      \"limit\": 500.0\n",
            "    },\n",
            "    \"card\": {\n",
            "      \"id\": 3460,\n",
            "      \"number\": \"**** **** **** 0201\",\n",
            "      \"limit\": 1000.0\n",
            "    },\n",
            "    \"features\": [],\n",
            "    \"news\": []\n",
            "  },\n",
            "  {\n",
            "    \"id\": 3565,\n",
            "    \"name\": \"Martheus\",\n",
            "    \"account\": {\n",
            "      \"id\": 3788,\n",
            "      \"number\": \"02021-3\",\n",
            "      \"agency\": \"0001\",\n",
            "      \"balance\": 0.0,\n",
            "      \"limit\": 500.0\n",
            "    },\n",
            "    \"card\": {\n",
            "      \"id\": 3461,\n",
            "      \"number\": \"**** **** **** 0203\",\n",
            "      \"limit\": 1000.0\n",
            "    },\n",
            "    \"features\": [],\n",
            "    \"news\": []\n",
            "  }\n",
            "]\n"
          ]
        }
      ]
    },
    {
      "cell_type": "markdown",
      "source": [
        "## **T**ransform\n"
      ],
      "metadata": {
        "id": "cWoqInB4TF1x"
      }
    },
    {
      "cell_type": "code",
      "source": [
        "#Abrindo o arquivo que contém as mensagens personalizadas\n",
        "df2 = pd.read_csv('message.csv', encoding='latin-1')\n",
        "message_user = df2['Message'].tolist()\n",
        "print(message_user)"
      ],
      "metadata": {
        "id": "O--PCAObTQkK",
        "colab": {
          "base_uri": "https://localhost:8080/"
        },
        "outputId": "3117698a-74c3-4cb3-97bd-c466cb697c54"
      },
      "execution_count": 13,
      "outputs": [
        {
          "output_type": "stream",
          "name": "stdout",
          "text": [
            "['FaÃ§a seu dinheiro trabalhar para vocÃª: invista!', 'Semear riqueza: comece a investir hoje!', 'Cultive seu patrimÃ´nio com investimentos inteligentes.', 'Construa sua fortuna com investimentos estratÃ©gicos.', 'Plante a semente da prosperidade com investimentos.', 'Prepare-se para um futuro financeiramente seguro: invista agora!', 'Colha os frutos de suas escolhas financeiras inteligentes.', 'EnriqueÃ§a seu amanhÃ£ atravÃ©s de investimentos hoje.', 'Invista com sabedoria e assegure seu futuro financeiro.', 'Transforme sonhos em realidade atravÃ©s de investimentos conscientes.']\n"
          ]
        }
      ]
    },
    {
      "cell_type": "code",
      "source": [
        "#Personalizando cada mensagem para cada cliente\n",
        "for user, message in zip(users, message_user):\n",
        "    # news = generate_ai_news(user)\n",
        "    # print(news)\n",
        "    user['news'].append({\n",
        "        \"icon\": \"https://digitalinnovationone.github.io/santander-dev-week-2023-api/icons/credit.svg\",\n",
        "        \"description\": message\n",
        "    })"
      ],
      "metadata": {
        "id": "n1w78kNxTrZY"
      },
      "execution_count": 14,
      "outputs": []
    },
    {
      "cell_type": "markdown",
      "source": [
        "## **L**oad\n",
        "\n",
        "Atualize a lista de \"news\" de cada usuário na API com a nova mensagem gerada."
      ],
      "metadata": {
        "id": "kNuP0SDUZMBY"
      }
    },
    {
      "cell_type": "code",
      "source": [
        "def update_user(user):\n",
        "  response = requests.put(f\"{sdw2023_api_url}/users/{user['id']}\", json=user)\n",
        "  return True if response.status_code == 200 else False\n",
        "\n",
        "for user in users:\n",
        "  success = update_user(user)\n",
        "  print(f\"User {user['name']} updated? {success}!\")"
      ],
      "metadata": {
        "id": "YefWfYBoZMN2",
        "colab": {
          "base_uri": "https://localhost:8080/"
        },
        "outputId": "cc86fc18-e27e-4610-87ed-f0f4831bf336"
      },
      "execution_count": 15,
      "outputs": [
        {
          "output_type": "stream",
          "name": "stdout",
          "text": [
            "User Meutheus updated? True!\n",
            "User Mytheus updated? True!\n",
            "User Martheus updated? True!\n"
          ]
        }
      ]
    }
  ]
}